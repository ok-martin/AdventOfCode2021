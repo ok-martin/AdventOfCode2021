{
 "cells": [
  {
   "cell_type": "code",
   "execution_count": 1,
   "metadata": {},
   "outputs": [
    {
     "data": {
      "text/plain": [
       "85015836"
      ]
     },
     "execution_count": 1,
     "metadata": {},
     "output_type": "execute_result"
    }
   ],
   "source": [
    "# read file to lines\n",
    "with open('Day7Input.txt') as f:\n",
    "    lines = f.readlines()\n",
    "\n",
    "# read first line\n",
    "line = lines[0]\n",
    "line = line.strip(' \\t\\n\\r')\n",
    "\n",
    "# split based on comma\n",
    "line = line.split(',')\n",
    "\n",
    "newValues = []\n",
    "\n",
    "# convert to integers\n",
    "for index in range(0, len(line)):\n",
    "\tif len(line[index]) > 0:\n",
    "\t\tnewValues.append(int(line[index]))\n",
    "\n",
    "# CRAB SUBS\n",
    "sums = []\n",
    "\n",
    "minVal = min(newValues)\n",
    "maxVal = max(newValues) + 1\n",
    "\n",
    "# go through all possible positions\n",
    "for val1 in range(minVal, maxVal):\n",
    "\ttotalPetrol = 0\n",
    "\n",
    "\t# go through all the values\n",
    "\tfor val2 in newValues:\n",
    "\t\t# compare and save the difference\n",
    "\t\tsteps = abs(val1 - val2)\n",
    "\t\tpetrol = int((((2) + (steps - 1)) / 2) * steps)\n",
    "\n",
    "\t\ttotalPetrol += petrol\n",
    "\n",
    "\tsums.append(totalPetrol)\n",
    "\n",
    "min(sums)\n"
   ]
  },
  {
   "cell_type": "code",
   "execution_count": null,
   "metadata": {},
   "outputs": [],
   "source": []
  },
  {
   "cell_type": "code",
   "execution_count": null,
   "metadata": {},
   "outputs": [],
   "source": []
  },
  {
   "cell_type": "code",
   "execution_count": null,
   "metadata": {},
   "outputs": [],
   "source": []
  },
  {
   "cell_type": "code",
   "execution_count": null,
   "metadata": {},
   "outputs": [],
   "source": []
  },
  {
   "cell_type": "code",
   "execution_count": 27,
   "metadata": {},
   "outputs": [
    {
     "data": {
      "text/plain": [
       "[]"
      ]
     },
     "execution_count": 27,
     "metadata": {},
     "output_type": "execute_result"
    }
   ],
   "source": [
    "# read file to lines\n",
    "with open('Day7Input.txt') as f:\n",
    "    lines = f.readlines()\n",
    "\n",
    "# read first line\n",
    "line = lines[0]\n",
    "line = line.strip(' \\t\\n\\r')\n",
    "\n",
    "# split based on comma\n",
    "line = line.split(',')\n",
    "\n",
    "newValues = []\n",
    "\n",
    "# convert to integers\n",
    "for index in range(0, len(line)):\n",
    "\tif len(line[index]) > 0:\n",
    "\t\tnewValues.append(int(line[index]))\n",
    "\n",
    "# PART 1\n",
    "sums = []\n",
    "\n",
    "# go through all the values\n",
    "for ii in range(0, len(newValues)):\n",
    "\tval1 = newValues[ii]\n",
    "\n",
    "\tdiffs = []\n",
    "\t# go through all the other values\n",
    "\tfor jj in range(0, len(newValues)):\n",
    "\t\tval2 = newValues[jj]\n",
    "\t\t\n",
    "\t\t# ignore itself\n",
    "\t\tif ii != jj:\n",
    "\t\t\t# compare and save the difference\n",
    "\t\t\tdelta = abs(val1 - val2)\n",
    "\t\t\tdiffs.append(delta)\n",
    "\n",
    "\tsums.append(sum(diffs))\n",
    "\n",
    "min(sums)\n",
    "\n",
    "\n",
    "\n",
    "\n",
    "\n"
   ]
  },
  {
   "cell_type": "markdown",
   "metadata": {},
   "source": []
  }
 ],
 "metadata": {
  "interpreter": {
   "hash": "b3ba2566441a7c06988d0923437866b63cedc61552a5af99d1f4fb67d367b25f"
  },
  "kernelspec": {
   "display_name": "Python 3.8.5 64-bit ('base': conda)",
   "language": "python",
   "name": "python3"
  },
  "language_info": {
   "codemirror_mode": {
    "name": "ipython",
    "version": 3
   },
   "file_extension": ".py",
   "mimetype": "text/x-python",
   "name": "python",
   "nbconvert_exporter": "python",
   "pygments_lexer": "ipython3",
   "version": "3.8.5"
  },
  "orig_nbformat": 4
 },
 "nbformat": 4,
 "nbformat_minor": 2
}
