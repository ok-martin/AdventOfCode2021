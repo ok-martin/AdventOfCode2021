{
 "cells": [
  {
   "cell_type": "code",
   "execution_count": 133,
   "metadata": {},
   "outputs": [
    {
     "name": "stdout",
     "output_type": "stream",
     "text": [
      "20898\n"
     ]
    },
    {
     "data": {
      "text/plain": [
       "array([[0, 0, 0, ..., 0, 0, 0],\n",
       "       [0, 0, 0, ..., 0, 0, 0],\n",
       "       [0, 0, 0, ..., 0, 0, 0],\n",
       "       ...,\n",
       "       [0, 0, 0, ..., 0, 0, 0],\n",
       "       [0, 0, 0, ..., 0, 0, 0],\n",
       "       [0, 0, 0, ..., 0, 0, 0]])"
      ]
     },
     "execution_count": 133,
     "metadata": {},
     "output_type": "execute_result"
    }
   ],
   "source": [
    "import numpy as np\n",
    "\n",
    "# read file to lines\n",
    "with open('Day5Input.txt') as f:\n",
    "    lines = f.readlines()\n",
    "\n",
    "pointsLines = []\n",
    "\n",
    "\n",
    "allMaxX = -1073741824\n",
    "allMaxY = -1073741824\n",
    "\n",
    "\n",
    "# go though it line by line\n",
    "for index in range(0, len(lines)):\n",
    "\tline = lines[index]\n",
    "\tline = line.strip(' \\t\\n\\r')\n",
    "\tline = line.strip()\n",
    "\n",
    "\tif len(line) > 0:\n",
    "\t\tpoints = line.split(' -> ')\n",
    "\n",
    "\t\tpointA = points[0].split(',')\n",
    "\t\tpointB = points[1].split(',')\n",
    "\n",
    "\t\tpointA = [int(pointA[0]), int(pointA[1])]\n",
    "\t\tpointB = [int(pointB[0]), int(pointB[1])]\n",
    "\n",
    "\n",
    "\t\tminX = min(pointA[0], pointB[0])\n",
    "\t\tmaxX = max(pointA[0], pointB[0])\n",
    "\t\tminY = min(pointA[1], pointB[1])\n",
    "\t\tmaxY = max(pointA[1], pointB[1])\n",
    "\n",
    "\t\tpointsLines.append([pointA[0], pointB[0], pointA[1], pointB[1], minX, maxX, minY, maxY])\n",
    "\n",
    "\t\tif maxX > allMaxX:\n",
    "\t\t\tallMaxX = maxX\n",
    "\t\tif maxY > allMaxY:\n",
    "\t\t\tallMaxY = maxY\n",
    "\n",
    "# create the board\n",
    "board = np.zeros((allMaxY+1, allMaxX+1), dtype=int)\n",
    "\n",
    "# draw lines\n",
    "for pointLine in pointsLines:\n",
    "\txx1 = pointLine[0]\n",
    "\txx2 = pointLine[1]\n",
    "\tyy1 = pointLine[2]\n",
    "\tyy2 = pointLine[3]\n",
    "\tminX = pointLine[4]\n",
    "\tmaxX = pointLine[5]\n",
    "\tminY = pointLine[6]\n",
    "\tmaxY = pointLine[7]\n",
    "\n",
    "\t# straight line\n",
    "\tif (xx1 == xx2 or yy1 == yy2):\n",
    "\t\tfor yy in range(minY, maxY + 1):\n",
    "\t\t\tfor xx in range(minX, maxX + 1):\n",
    "\t\t\t\tboard[yy][xx] += 1\n",
    "\t# diagonal\n",
    "\telse:\n",
    "\t\txi = -1 if xx1 > xx2 else 1\n",
    "\t\tyi = -1 if yy1 > yy2 else 1\n",
    "\n",
    "\t\tyy = yy1\n",
    "\n",
    "\t\tfor xx in range(xx1, xx2 + xi, xi):\n",
    "\t\t\tboard[yy][xx] += 1\n",
    "\t\t\tyy += yi\n",
    "\t\t\t\t\n",
    "\n",
    "count = 0\n",
    "for yy in range(0, len(board)):\n",
    "\tfor xx in range(0, len(board[yy])):\n",
    "\t\tif board[yy][xx] > 1:\n",
    "\t\t\tcount += 1\n",
    "print(count) # 20898\n",
    "\n",
    "board"
   ]
  },
  {
   "cell_type": "code",
   "execution_count": 123,
   "metadata": {},
   "outputs": [
    {
     "name": "stdout",
     "output_type": "stream",
     "text": [
      "10\n",
      "9\n",
      "8\n",
      "7\n",
      "6\n",
      "5\n",
      "4\n",
      "3\n",
      "2\n",
      "1\n"
     ]
    }
   ],
   "source": [
    "for ii in range(10, 0, -1):\n",
    "\tprint(ii)"
   ]
  },
  {
   "cell_type": "code",
   "execution_count": null,
   "metadata": {},
   "outputs": [],
   "source": []
  },
  {
   "cell_type": "code",
   "execution_count": null,
   "metadata": {},
   "outputs": [],
   "source": []
  },
  {
   "cell_type": "code",
   "execution_count": null,
   "metadata": {},
   "outputs": [],
   "source": []
  },
  {
   "cell_type": "code",
   "execution_count": 27,
   "metadata": {},
   "outputs": [
    {
     "data": {
      "text/plain": [
       "[]"
      ]
     },
     "execution_count": 27,
     "metadata": {},
     "output_type": "execute_result"
    }
   ],
   "source": [
    "# read file to lines\n",
    "with open('Day7Input.txt') as f:\n",
    "    lines = f.readlines()\n",
    "\n",
    "# read first line\n",
    "line = lines[0]\n",
    "line = line.strip(' \\t\\n\\r')\n",
    "\n",
    "# split based on comma\n",
    "line = line.split(',')\n",
    "\n",
    "newValues = []\n",
    "\n",
    "# convert to integers\n",
    "for index in range(0, len(line)):\n",
    "\tif len(line[index]) > 0:\n",
    "\t\tnewValues.append(int(line[index]))\n",
    "\n",
    "\n",
    "boards = []\n",
    "\n",
    "# go though it line by line\n",
    "for index in range(1, len(lines)):\n",
    "\tline = lines[index]\n",
    "\tline = line.strip(' \\t\\n\\r')\n",
    "\tline = line.strip()\n",
    "\n",
    "\tif len(line) > 0:\n",
    "\t\t# split based of on ' ' space\n",
    "\t\tvalues = line.split(' ')\n",
    "\n",
    "\t\trow = [0] * (len(values) - 1)\n",
    "\t\tcolRow = [0] * (len(values) - 1)\n",
    "\n",
    "\t\tfor jj in range(0, len(values) - 1):\n",
    "\t\t\tval = values[jj]\n",
    "\t\t\t\n",
    "\t\t\tif len(val) > 0:\n",
    "\t\t\t\tval = int(val)\n",
    "\n",
    "\t\t\t\trow[jj] = val\n",
    "\t\t\t\tcolRow[jj] = val\n",
    "\n",
    "\t\tboards.append(row)\n",
    "\n",
    "boards\n"
   ]
  },
  {
   "cell_type": "markdown",
   "metadata": {},
   "source": []
  }
 ],
 "metadata": {
  "interpreter": {
   "hash": "b3ba2566441a7c06988d0923437866b63cedc61552a5af99d1f4fb67d367b25f"
  },
  "kernelspec": {
   "display_name": "Python 3.8.5 64-bit ('base': conda)",
   "language": "python",
   "name": "python3"
  },
  "language_info": {
   "codemirror_mode": {
    "name": "ipython",
    "version": 3
   },
   "file_extension": ".py",
   "mimetype": "text/x-python",
   "name": "python",
   "nbconvert_exporter": "python",
   "pygments_lexer": "ipython3",
   "version": "3.8.5"
  },
  "orig_nbformat": 4
 },
 "nbformat": 4,
 "nbformat_minor": 2
}
