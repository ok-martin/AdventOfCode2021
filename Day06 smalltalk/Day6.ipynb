{
 "cells": [
  {
   "cell_type": "code",
   "execution_count": 88,
   "metadata": {},
   "outputs": [
    {
     "data": {
      "text/plain": [
       "1595330616005"
      ]
     },
     "execution_count": 88,
     "metadata": {},
     "output_type": "execute_result"
    }
   ],
   "source": [
    "# BETTER SOLUTION SOLVES PART 2 in 0.3s\n",
    "\n",
    "# read file to lines\n",
    "with open('Day6Input.txt') as f:\n",
    "    lines = f.readlines()\n",
    "\n",
    "# read first line\n",
    "line = lines[0]\n",
    "line = line.strip(' \\t\\n\\r')\n",
    "fish = line.split(',')\n",
    "\n",
    "for index in range(0, len(fish)):\n",
    "\tfish[index] = int(fish[index])\n",
    "\n",
    "cycle = 6 + 1\n",
    "days = 256\n",
    "newFishByDay = [0] * days\n",
    "fishCount = len(fish)\n",
    "\n",
    "for index in range(0, len(fish)):\n",
    "\tfishLife = fish[index]\n",
    "\n",
    "\tfor day in range(fishLife, days, cycle):\n",
    "\t\tnewFishByDay[day] += 1\n",
    "\n",
    "\n",
    "for dayNow in range(days):\n",
    "\tnoFish = newFishByDay[dayNow]\n",
    "\n",
    "\tfishCount += noFish\n",
    "\n",
    "\tif noFish > 0:\n",
    "\t\tfor day in range(dayNow+cycle+1, days-1, cycle):\n",
    "\t\t\tnewFishByDay[day+1] += noFish\n",
    "\n",
    "fishCount"
   ]
  },
  {
   "cell_type": "code",
   "execution_count": null,
   "metadata": {},
   "outputs": [],
   "source": [
    "# NAIVE SOLUTION\n",
    "# 351092 read file to lines\n",
    "with open('Day6Input.txt') as f:\n",
    "    lines = f.readlines()\n",
    "\n",
    "# read first line\n",
    "line = lines[0]\n",
    "line = line.strip(' \\t\\n\\r')\n",
    "values = line.split(',')\n",
    "\n",
    "for index in range(0, len(values)):\n",
    "\tvalues[index] = int(values[index])\n",
    "\n",
    "for day in range(0, 80):\n",
    "\tnewFish = []\n",
    "\tfor index in range(0, len(values)):\n",
    "\t\tval = values[index]\n",
    "\n",
    "\t\tif val == 0:\n",
    "\t\t\tnewFish.append(8)\n",
    "\t\t\tval = 6\n",
    "\t\telse:\n",
    "\t\t\tval = val - 1\n",
    "\n",
    "\t\tvalues[index] = val\n",
    "\n",
    "\tif len(newFish) > 0:\n",
    "\t\tvalues.extend(newFish)\n",
    "\n",
    "len(values)\n"
   ]
  },
  {
   "cell_type": "code",
   "execution_count": null,
   "metadata": {},
   "outputs": [],
   "source": []
  },
  {
   "cell_type": "code",
   "execution_count": null,
   "metadata": {},
   "outputs": [],
   "source": []
  },
  {
   "cell_type": "code",
   "execution_count": null,
   "metadata": {},
   "outputs": [],
   "source": []
  }
 ],
 "metadata": {
  "interpreter": {
   "hash": "b3ba2566441a7c06988d0923437866b63cedc61552a5af99d1f4fb67d367b25f"
  },
  "kernelspec": {
   "display_name": "Python 3.8.5 64-bit ('base': conda)",
   "language": "python",
   "name": "python3"
  },
  "language_info": {
   "codemirror_mode": {
    "name": "ipython",
    "version": 3
   },
   "file_extension": ".py",
   "mimetype": "text/x-python",
   "name": "python",
   "nbconvert_exporter": "python",
   "pygments_lexer": "ipython3",
   "version": "3.8.5"
  },
  "orig_nbformat": 4
 },
 "nbformat": 4,
 "nbformat_minor": 2
}
