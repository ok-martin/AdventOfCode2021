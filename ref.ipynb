{
 "cells": [
  {
   "cell_type": "code",
   "execution_count": null,
   "metadata": {},
   "outputs": [],
   "source": [
    "# read file to lines\n",
    "with open('Day7Input.txt') as f:\n",
    "    lines = f.readlines()\n",
    "\n",
    "# read first line\n",
    "line = lines[0]\n",
    "line = line.strip(' \\t\\n\\r')\n",
    "\n",
    "# split based on comma\n",
    "line = line.split(',')\n",
    "\n",
    "newValues = []\n",
    "\n",
    "# convert to integers\n",
    "for index in range(0, len(line)):\n",
    "\tif len(line[index]) > 0:\n",
    "\t\tnewValues.append(int(line[index]))\n",
    "\n",
    "\n",
    "boards = []\n",
    "\n",
    "# go though it line by line\n",
    "for index in range(1, len(lines)):\n",
    "\tline = lines[index]\n",
    "\tline = line.strip(' \\t\\n\\r')\n",
    "\tline = line.strip()\n",
    "\n",
    "\tif len(line) > 0:\n",
    "\t\t# split based of on ' ' space\n",
    "\t\tvalues = line.split(' ')\n",
    "\n",
    "\t\trow = [0] * (len(values) - 1)\n",
    "\t\tcolRow = [0] * (len(values) - 1)\n",
    "\n",
    "\t\tfor jj in range(0, len(values) - 1):\n",
    "\t\t\tval = values[jj]\n",
    "\t\t\t\n",
    "\t\t\tif len(val) > 0:\n",
    "\t\t\t\tval = int(val)\n",
    "\n",
    "\t\t\t\trow[jj] = val\n",
    "\t\t\t\tcolRow[jj] = val\n",
    "\n",
    "\t\tboards.append(row)\n",
    "\n",
    "boards\n"
   ]
  }
 ],
 "metadata": {
  "language_info": {
   "name": "python"
  },
  "orig_nbformat": 4
 },
 "nbformat": 4,
 "nbformat_minor": 2
}
