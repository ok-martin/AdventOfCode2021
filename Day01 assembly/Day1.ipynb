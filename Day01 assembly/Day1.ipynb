{
 "cells": [
  {
   "cell_type": "code",
   "execution_count": 11,
   "metadata": {},
   "outputs": [
    {
     "data": {
      "text/plain": [
       "1482"
      ]
     },
     "execution_count": 11,
     "metadata": {},
     "output_type": "execute_result"
    }
   ],
   "source": [
    "with open('Day1Input.txt') as f:\n",
    "    lines = f.readlines()\n",
    "\n",
    "increased = 0\n",
    "\n",
    "for index in range(1, len(lines)):\n",
    "\tnumber1 = int(lines[index - 1])\n",
    "\tnumber2 = int(lines[index])\n",
    "\n",
    "\tif (number2 > number1):\n",
    "\t\tincreased += 1\n",
    "\n",
    "increased"
   ]
  },
  {
   "cell_type": "code",
   "execution_count": 2,
   "metadata": {},
   "outputs": [
    {
     "data": {
      "text/plain": [
       "1518"
      ]
     },
     "execution_count": 2,
     "metadata": {},
     "output_type": "execute_result"
    }
   ],
   "source": [
    "with open('Day1Input.txt') as f:\n",
    "    lines = f.readlines()\n",
    "\n",
    "sums = []\n",
    "\n",
    "for index in range(2, len(lines)):\n",
    "\tnumber1 = int(lines[index - 2])\n",
    "\tnumber2 = int(lines[index - 1])\n",
    "\tnumber3 = int(lines[index])\n",
    "\n",
    "\tsums.append(number1 + number2 + number3)\n",
    "\n",
    "increased = 0\n",
    "\n",
    "for index in range(1, len(sums)):\n",
    "\tnumber1 = int(sums[index - 1])\n",
    "\tnumber2 = int(sums[index])\n",
    "\n",
    "\tif (number2 > number1):\n",
    "\t\tincreased += 1\n",
    "\n",
    "increased"
   ]
  }
 ],
 "metadata": {
  "interpreter": {
   "hash": "b3ba2566441a7c06988d0923437866b63cedc61552a5af99d1f4fb67d367b25f"
  },
  "kernelspec": {
   "display_name": "Python 3.8.5 64-bit ('base': conda)",
   "language": "python",
   "name": "python3"
  },
  "language_info": {
   "codemirror_mode": {
    "name": "ipython",
    "version": 3
   },
   "file_extension": ".py",
   "mimetype": "text/x-python",
   "name": "python",
   "nbconvert_exporter": "python",
   "pygments_lexer": "ipython3",
   "version": "3.8.5"
  },
  "orig_nbformat": 4
 },
 "nbformat": 4,
 "nbformat_minor": 2
}
